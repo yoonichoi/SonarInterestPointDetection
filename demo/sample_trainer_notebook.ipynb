{
  "nbformat": 4,
  "nbformat_minor": 0,
  "metadata": {
    "colab": {
      "provenance": []
    },
    "kernelspec": {
      "name": "python3",
      "display_name": "Python 3"
    },
    "language_info": {
      "name": "python"
    }
  },
  "cells": [
    {
      "cell_type": "code",
      "source": [
        "#imports\n",
        "import cv2\n",
        "import numpy as np\n",
        "import torch\n",
        "import torch.nn as nn\n",
        "from torchsummaryX import summary\n",
        "import warnings\n",
        "\n",
        "DEVICE = torch.device(\"cuda\" if torch.cuda.is_available() else \"cpu\")\n",
        "print(\"Device: \", DEVICE)\n",
        "warnings.filterwarnings('ignore')"
      ],
      "metadata": {
        "id": "NaOQzodTaUFe",
        "colab": {
          "base_uri": "https://localhost:8080/"
        },
        "outputId": "ec722548-c593-49ed-f1b2-5055fe48cc29"
      },
      "execution_count": 1,
      "outputs": [
        {
          "output_type": "stream",
          "name": "stdout",
          "text": [
            "Device:  cuda\n"
          ]
        }
      ]
    },
    {
      "cell_type": "code",
      "source": [
        "!nvidia-smi"
      ],
      "metadata": {
        "colab": {
          "base_uri": "https://localhost:8080/"
        },
        "id": "ONALv6M0qrch",
        "outputId": "4973921f-98e7-4955-a316-0bce1363fea2"
      },
      "execution_count": 2,
      "outputs": [
        {
          "output_type": "stream",
          "name": "stdout",
          "text": [
            "Thu Dec  8 05:57:36 2022       \n",
            "+-----------------------------------------------------------------------------+\n",
            "| NVIDIA-SMI 460.32.03    Driver Version: 460.32.03    CUDA Version: 11.2     |\n",
            "|-------------------------------+----------------------+----------------------+\n",
            "| GPU  Name        Persistence-M| Bus-Id        Disp.A | Volatile Uncorr. ECC |\n",
            "| Fan  Temp  Perf  Pwr:Usage/Cap|         Memory-Usage | GPU-Util  Compute M. |\n",
            "|                               |                      |               MIG M. |\n",
            "|===============================+======================+======================|\n",
            "|   0  Tesla V100-SXM2...  Off  | 00000000:00:04.0 Off |                    0 |\n",
            "| N/A   36C    P0    23W / 300W |      2MiB / 16160MiB |      0%      Default |\n",
            "|                               |                      |                  N/A |\n",
            "+-------------------------------+----------------------+----------------------+\n",
            "                                                                               \n",
            "+-----------------------------------------------------------------------------+\n",
            "| Processes:                                                                  |\n",
            "|  GPU   GI   CI        PID   Type   Process name                  GPU Memory |\n",
            "|        ID   ID                                                   Usage      |\n",
            "|=============================================================================|\n",
            "|  No running processes found                                                 |\n",
            "+-----------------------------------------------------------------------------+\n"
          ]
        }
      ]
    },
    {
      "cell_type": "code",
      "source": [
        "# !unzip /content/sonar-data.zip"
      ],
      "metadata": {
        "id": "BwRngkWvhKMC"
      },
      "execution_count": 3,
      "outputs": []
    },
    {
      "cell_type": "markdown",
      "source": [
        "# Dataset Class"
      ],
      "metadata": {
        "id": "fLf1IncZlVo9"
      }
    },
    {
      "cell_type": "code",
      "source": [
        "# Dataset\n",
        "from torch.utils.data.dataset import Dataset\n",
        "import os, glob\n",
        "from tqdm import tqdm\n",
        "\n",
        "# dataset util\n",
        "\n",
        "def add_keypoint_map(data):\n",
        "  image_shape = np.shape(data['image'])\n",
        "  kp = np.floor(data['keypoints']).astype(np.int32)\n",
        "  kmap = np.zeros(image_shape).astype(np.float32)\n",
        "  for p in kp:\n",
        "    kmap[p[0],p[1]] = 1.0\n",
        "  return {**data, 'keypoint_map': kmap}\n",
        "\n",
        "\n",
        "# Dataset classes\n",
        "class SonarDataset(torch.utils.data.Dataset):\n",
        "    def __init__(self, root, partition= \"train\"): \n",
        "        '''\n",
        "        Initializes the dataset.\n",
        "        '''\n",
        "\n",
        "        # Load the directory and all files in them\n",
        "        self.train_samples = []\n",
        "\n",
        "        if partition == \"train\":\n",
        "          self.img_dir = root + \"/train/img/\"\n",
        "          self.pts_dir = root + \"/train/pts/\"\n",
        "        elif partition == 'val':\n",
        "          self.img_dir = root + \"/valid/img/\"\n",
        "          self.pts_dir = root + \"/valid/pts/\"\n",
        "        else:\n",
        "          self.img_dir = root + \"/test/img/\"\n",
        "          self.pts_dir = root + \"/test/pts/\"\n",
        "\n",
        "        \n",
        "        '''\n",
        "        You may decide to do this in __getitem__ if you wish.\n",
        "        However, doing this here will make the __init__ function take the load of\n",
        "        loading the data, and shift it away from training.\n",
        "        '''\n",
        "\n",
        "        img_files = glob.glob(self.img_dir+'/*.png')\n",
        "        pt_files = glob.glob(self.pts_dir+'/*.npy')\n",
        "\n",
        "        for idx in tqdm(range(len(img_files))):\n",
        "            sample = (img_files[idx], pt_files[idx])\n",
        "            self.train_samples.append(sample)\n",
        "\n",
        "\n",
        "    def __len__(self):\n",
        "        return len(self.train_samples)\n",
        "\n",
        "\n",
        "    def __getitem__(self, index):\n",
        "        def _read_image(filename):\n",
        "            image = cv2.imread(filename, 0)\n",
        "            image = image.astype('float32')\n",
        "            return image\n",
        "\n",
        "        def _read_points(filename):\n",
        "            return np.load(filename).astype(np.float32)\n",
        "        \n",
        "        sample = self.train_samples[index]\n",
        "        image = _read_image(sample[0])\n",
        "        pts = np.reshape(_read_points(sample[1]), [-1, 2])\n",
        "\n",
        "        data = {'image': image, 'keypoints': pts}\n",
        "        data = add_keypoint_map(data)\n",
        "\n",
        "        # Convert to Tensors\n",
        "        image = torch.from_numpy(data['image'])\n",
        "        keypoint_map = torch.from_numpy(data['keypoint_map'])\n",
        "\n",
        "        image = torch.unsqueeze(image, 0)\n",
        "\n",
        "        return image, keypoint_map"
      ],
      "metadata": {
        "id": "54s_EpwCaT2L"
      },
      "execution_count": 3,
      "outputs": []
    },
    {
      "cell_type": "markdown",
      "source": [
        "# Dataloader"
      ],
      "metadata": {
        "id": "C6pSYevmlYhZ"
      }
    },
    {
      "cell_type": "code",
      "source": [
        "# Dataloader\n",
        "\n",
        "BATCH_SIZE = 16\n",
        "root = \"\"\n",
        "\n",
        "# Create objects for the dataset class\n",
        "train_data = SonarDataset(root)\n",
        "val_data = SonarDataset(root,\"valid\") \n",
        "test_data = SonarDataset(root,\"test\") \n",
        "\n",
        "train_loader = torch.utils.data.DataLoader(train_data, num_workers= 0,\n",
        "                                           batch_size=BATCH_SIZE, \n",
        "                                           shuffle= True)\n",
        "val_loader = torch.utils.data.DataLoader(val_data, num_workers= 0,\n",
        "                                         batch_size=BATCH_SIZE, \n",
        "                                         shuffle= False)\n",
        "test_loader = torch.utils.data.DataLoader(test_data, num_workers= 2, \n",
        "                                          batch_size=BATCH_SIZE, \n",
        "                                          shuffle= False)\n",
        "\n",
        "print(\"Batch size: \", BATCH_SIZE)\n",
        "print(\"Train dataset samples = {}, batches = {}\".format(train_data.__len__(), len(train_loader)))\n",
        "print(\"Val dataset samples = {}, batches = {}\".format(val_data.__len__(), len(val_loader)))\n",
        "print(\"Test dataset samples = {}, batches = {}\".format(test_data.__len__(), len(test_loader)))\n",
        "\n",
        "# sanity check\n",
        "for data in train_loader:\n",
        "    img, pts = data\n",
        "    print(img.shape, pts.shape)\n",
        "    break "
      ],
      "metadata": {
        "colab": {
          "base_uri": "https://localhost:8080/"
        },
        "id": "8PclAosBNeuk",
        "outputId": "6be64131-7192-4321-d4a4-1bffa8a7ccd5"
      },
      "execution_count": 4,
      "outputs": [
        {
          "output_type": "stream",
          "name": "stderr",
          "text": [
            "100%|██████████| 604/604 [00:00<00:00, 986126.75it/s]\n",
            "100%|██████████| 88/88 [00:00<00:00, 447935.38it/s]\n",
            "100%|██████████| 88/88 [00:00<00:00, 323203.81it/s]"
          ]
        },
        {
          "output_type": "stream",
          "name": "stdout",
          "text": [
            "Batch size:  16\n",
            "Train dataset samples = 604, batches = 38\n",
            "Val dataset samples = 88, batches = 6\n",
            "Test dataset samples = 88, batches = 6\n",
            "torch.Size([16, 1, 512, 512]) torch.Size([16, 512, 512])\n"
          ]
        },
        {
          "output_type": "stream",
          "name": "stderr",
          "text": [
            "\n"
          ]
        }
      ]
    },
    {
      "cell_type": "markdown",
      "source": [
        "# Superpoint"
      ],
      "metadata": {
        "id": "qWGABcCylKZj"
      }
    },
    {
      "cell_type": "code",
      "source": [
        "class SuperPointNet(torch.nn.Module):\n",
        "  \"\"\" Pytorch definition of SuperPoint Network. \"\"\"\n",
        "  def __init__(self):\n",
        "    super(SuperPointNet, self).__init__()\n",
        "    self.relu = torch.nn.ReLU(inplace=True)\n",
        "    self.pool = torch.nn.MaxPool2d(kernel_size=2, stride=2)\n",
        "    c1, c2, c3, c4, c5, d1 = 64, 64, 128, 128, 256, 256\n",
        "    # Shared Encoder.\n",
        "    self.conv1a = torch.nn.Conv2d(1, c1, kernel_size=3, stride=1, padding=1)\n",
        "    self.conv1b = torch.nn.Conv2d(c1, c1, kernel_size=3, stride=1, padding=1)\n",
        "    self.conv2a = torch.nn.Conv2d(c1, c2, kernel_size=3, stride=1, padding=1)\n",
        "    self.conv2b = torch.nn.Conv2d(c2, c2, kernel_size=3, stride=1, padding=1)\n",
        "    self.conv3a = torch.nn.Conv2d(c2, c3, kernel_size=3, stride=1, padding=1)\n",
        "    self.conv3b = torch.nn.Conv2d(c3, c3, kernel_size=3, stride=1, padding=1)\n",
        "    self.conv4a = torch.nn.Conv2d(c3, c4, kernel_size=3, stride=1, padding=1)\n",
        "    self.conv4b = torch.nn.Conv2d(c4, c4, kernel_size=3, stride=1, padding=1)\n",
        "    # Detector Head.\n",
        "    self.convPa = torch.nn.Conv2d(c4, c5, kernel_size=3, stride=1, padding=1)\n",
        "    self.convPb = torch.nn.Conv2d(c5, 65, kernel_size=1, stride=1, padding=0)\n",
        "    # Descriptor Head.\n",
        "    self.convDa = torch.nn.Conv2d(c4, c5, kernel_size=3, stride=1, padding=1)\n",
        "    self.convDb = torch.nn.Conv2d(c5, d1, kernel_size=1, stride=1, padding=0)\n",
        "\n",
        "  def forward(self, x):\n",
        "    \"\"\" Forward pass that jointly computes unprocessed point and descriptor\n",
        "    tensors.\n",
        "    Input\n",
        "      x: Image pytorch tensor shaped N x 1 x H x W.\n",
        "    Output\n",
        "      semi: Output point pytorch tensor shaped N x 65 x H/8 x W/8.\n",
        "      desc: Output descriptor pytorch tensor shaped N x 256 x H/8 x W/8.\n",
        "    \"\"\"\n",
        "    # Shared Encoder.\n",
        "    x = self.relu(self.conv1a(x))\n",
        "    x = self.relu(self.conv1b(x))\n",
        "    x = self.pool(x)\n",
        "    x = self.relu(self.conv2a(x))\n",
        "    x = self.relu(self.conv2b(x))\n",
        "    x = self.pool(x)\n",
        "    x = self.relu(self.conv3a(x))\n",
        "    x = self.relu(self.conv3b(x))\n",
        "    x = self.pool(x)\n",
        "    x = self.relu(self.conv4a(x))\n",
        "    x = self.relu(self.conv4b(x))\n",
        "    # Detector Head.\n",
        "    cPa = self.relu(self.convPa(x))\n",
        "    semi = self.convPb(cPa)\n",
        "    return semi"
      ],
      "metadata": {
        "id": "j9JiD1Cc-Ko1"
      },
      "execution_count": 5,
      "outputs": []
    },
    {
      "cell_type": "code",
      "source": [
        "# Superpoint\n",
        "superpoint = SuperPointNet()\n",
        "superpoint = superpoint.to(DEVICE)\n",
        "print(superpoint)\n",
        "summary(superpoint, x=img.to(DEVICE))"
      ],
      "metadata": {
        "id": "RfksOrOg_RrA",
        "colab": {
          "base_uri": "https://localhost:8080/",
          "height": 1000
        },
        "outputId": "df6549f4-7c18-4a38-cc90-2bce99d6a669"
      },
      "execution_count": 6,
      "outputs": [
        {
          "output_type": "stream",
          "name": "stdout",
          "text": [
            "SuperPointNet(\n",
            "  (relu): ReLU(inplace=True)\n",
            "  (pool): MaxPool2d(kernel_size=2, stride=2, padding=0, dilation=1, ceil_mode=False)\n",
            "  (conv1a): Conv2d(1, 64, kernel_size=(3, 3), stride=(1, 1), padding=(1, 1))\n",
            "  (conv1b): Conv2d(64, 64, kernel_size=(3, 3), stride=(1, 1), padding=(1, 1))\n",
            "  (conv2a): Conv2d(64, 64, kernel_size=(3, 3), stride=(1, 1), padding=(1, 1))\n",
            "  (conv2b): Conv2d(64, 64, kernel_size=(3, 3), stride=(1, 1), padding=(1, 1))\n",
            "  (conv3a): Conv2d(64, 128, kernel_size=(3, 3), stride=(1, 1), padding=(1, 1))\n",
            "  (conv3b): Conv2d(128, 128, kernel_size=(3, 3), stride=(1, 1), padding=(1, 1))\n",
            "  (conv4a): Conv2d(128, 128, kernel_size=(3, 3), stride=(1, 1), padding=(1, 1))\n",
            "  (conv4b): Conv2d(128, 128, kernel_size=(3, 3), stride=(1, 1), padding=(1, 1))\n",
            "  (convPa): Conv2d(128, 256, kernel_size=(3, 3), stride=(1, 1), padding=(1, 1))\n",
            "  (convPb): Conv2d(256, 65, kernel_size=(1, 1), stride=(1, 1))\n",
            "  (convDa): Conv2d(128, 256, kernel_size=(3, 3), stride=(1, 1), padding=(1, 1))\n",
            "  (convDb): Conv2d(256, 256, kernel_size=(1, 1), stride=(1, 1))\n",
            ")\n",
            "========================================================================\n",
            "               Kernel Shape         Output Shape    Params     Mult-Adds\n",
            "Layer                                                                   \n",
            "0_conv1a      [1, 64, 3, 3]   [16, 64, 512, 512]     640.0   150.994944M\n",
            "1_relu                    -   [16, 64, 512, 512]         -             -\n",
            "2_conv1b     [64, 64, 3, 3]   [16, 64, 512, 512]   36.928k  9.663676416G\n",
            "3_relu                    -   [16, 64, 512, 512]         -             -\n",
            "4_pool                    -   [16, 64, 256, 256]         -             -\n",
            "5_conv2a     [64, 64, 3, 3]   [16, 64, 256, 256]   36.928k  2.415919104G\n",
            "6_relu                    -   [16, 64, 256, 256]         -             -\n",
            "7_conv2b     [64, 64, 3, 3]   [16, 64, 256, 256]   36.928k  2.415919104G\n",
            "8_relu                    -   [16, 64, 256, 256]         -             -\n",
            "9_pool                    -   [16, 64, 128, 128]         -             -\n",
            "10_conv3a   [64, 128, 3, 3]  [16, 128, 128, 128]   73.856k  1.207959552G\n",
            "11_relu                   -  [16, 128, 128, 128]         -             -\n",
            "12_conv3b  [128, 128, 3, 3]  [16, 128, 128, 128]  147.584k  2.415919104G\n",
            "13_relu                   -  [16, 128, 128, 128]         -             -\n",
            "14_pool                   -    [16, 128, 64, 64]         -             -\n",
            "15_conv4a  [128, 128, 3, 3]    [16, 128, 64, 64]  147.584k   603.979776M\n",
            "16_relu                   -    [16, 128, 64, 64]         -             -\n",
            "17_conv4b  [128, 128, 3, 3]    [16, 128, 64, 64]  147.584k   603.979776M\n",
            "18_relu                   -    [16, 128, 64, 64]         -             -\n",
            "19_convPa  [128, 256, 3, 3]    [16, 256, 64, 64]  295.168k  1.207959552G\n",
            "20_relu                   -    [16, 256, 64, 64]         -             -\n",
            "21_convPb   [256, 65, 1, 1]     [16, 65, 64, 64]   16.705k     68.15744M\n",
            "------------------------------------------------------------------------\n",
            "                             Totals\n",
            "Total params               939.905k\n",
            "Trainable params           939.905k\n",
            "Non-trainable params            0.0\n",
            "Mult-Adds             20.754464768G\n",
            "========================================================================\n"
          ]
        },
        {
          "output_type": "execute_result",
          "data": {
            "text/html": [
              "\n",
              "  <div id=\"df-34967b19-7796-46c7-a611-0580670ec346\">\n",
              "    <div class=\"colab-df-container\">\n",
              "      <div>\n",
              "<style scoped>\n",
              "    .dataframe tbody tr th:only-of-type {\n",
              "        vertical-align: middle;\n",
              "    }\n",
              "\n",
              "    .dataframe tbody tr th {\n",
              "        vertical-align: top;\n",
              "    }\n",
              "\n",
              "    .dataframe thead th {\n",
              "        text-align: right;\n",
              "    }\n",
              "</style>\n",
              "<table border=\"1\" class=\"dataframe\">\n",
              "  <thead>\n",
              "    <tr style=\"text-align: right;\">\n",
              "      <th></th>\n",
              "      <th>Kernel Shape</th>\n",
              "      <th>Output Shape</th>\n",
              "      <th>Params</th>\n",
              "      <th>Mult-Adds</th>\n",
              "    </tr>\n",
              "    <tr>\n",
              "      <th>Layer</th>\n",
              "      <th></th>\n",
              "      <th></th>\n",
              "      <th></th>\n",
              "      <th></th>\n",
              "    </tr>\n",
              "  </thead>\n",
              "  <tbody>\n",
              "    <tr>\n",
              "      <th>0_conv1a</th>\n",
              "      <td>[1, 64, 3, 3]</td>\n",
              "      <td>[16, 64, 512, 512]</td>\n",
              "      <td>640.0</td>\n",
              "      <td>1.509949e+08</td>\n",
              "    </tr>\n",
              "    <tr>\n",
              "      <th>1_relu</th>\n",
              "      <td>-</td>\n",
              "      <td>[16, 64, 512, 512]</td>\n",
              "      <td>NaN</td>\n",
              "      <td>NaN</td>\n",
              "    </tr>\n",
              "    <tr>\n",
              "      <th>2_conv1b</th>\n",
              "      <td>[64, 64, 3, 3]</td>\n",
              "      <td>[16, 64, 512, 512]</td>\n",
              "      <td>36928.0</td>\n",
              "      <td>9.663676e+09</td>\n",
              "    </tr>\n",
              "    <tr>\n",
              "      <th>3_relu</th>\n",
              "      <td>-</td>\n",
              "      <td>[16, 64, 512, 512]</td>\n",
              "      <td>NaN</td>\n",
              "      <td>NaN</td>\n",
              "    </tr>\n",
              "    <tr>\n",
              "      <th>4_pool</th>\n",
              "      <td>-</td>\n",
              "      <td>[16, 64, 256, 256]</td>\n",
              "      <td>NaN</td>\n",
              "      <td>NaN</td>\n",
              "    </tr>\n",
              "    <tr>\n",
              "      <th>5_conv2a</th>\n",
              "      <td>[64, 64, 3, 3]</td>\n",
              "      <td>[16, 64, 256, 256]</td>\n",
              "      <td>36928.0</td>\n",
              "      <td>2.415919e+09</td>\n",
              "    </tr>\n",
              "    <tr>\n",
              "      <th>6_relu</th>\n",
              "      <td>-</td>\n",
              "      <td>[16, 64, 256, 256]</td>\n",
              "      <td>NaN</td>\n",
              "      <td>NaN</td>\n",
              "    </tr>\n",
              "    <tr>\n",
              "      <th>7_conv2b</th>\n",
              "      <td>[64, 64, 3, 3]</td>\n",
              "      <td>[16, 64, 256, 256]</td>\n",
              "      <td>36928.0</td>\n",
              "      <td>2.415919e+09</td>\n",
              "    </tr>\n",
              "    <tr>\n",
              "      <th>8_relu</th>\n",
              "      <td>-</td>\n",
              "      <td>[16, 64, 256, 256]</td>\n",
              "      <td>NaN</td>\n",
              "      <td>NaN</td>\n",
              "    </tr>\n",
              "    <tr>\n",
              "      <th>9_pool</th>\n",
              "      <td>-</td>\n",
              "      <td>[16, 64, 128, 128]</td>\n",
              "      <td>NaN</td>\n",
              "      <td>NaN</td>\n",
              "    </tr>\n",
              "    <tr>\n",
              "      <th>10_conv3a</th>\n",
              "      <td>[64, 128, 3, 3]</td>\n",
              "      <td>[16, 128, 128, 128]</td>\n",
              "      <td>73856.0</td>\n",
              "      <td>1.207960e+09</td>\n",
              "    </tr>\n",
              "    <tr>\n",
              "      <th>11_relu</th>\n",
              "      <td>-</td>\n",
              "      <td>[16, 128, 128, 128]</td>\n",
              "      <td>NaN</td>\n",
              "      <td>NaN</td>\n",
              "    </tr>\n",
              "    <tr>\n",
              "      <th>12_conv3b</th>\n",
              "      <td>[128, 128, 3, 3]</td>\n",
              "      <td>[16, 128, 128, 128]</td>\n",
              "      <td>147584.0</td>\n",
              "      <td>2.415919e+09</td>\n",
              "    </tr>\n",
              "    <tr>\n",
              "      <th>13_relu</th>\n",
              "      <td>-</td>\n",
              "      <td>[16, 128, 128, 128]</td>\n",
              "      <td>NaN</td>\n",
              "      <td>NaN</td>\n",
              "    </tr>\n",
              "    <tr>\n",
              "      <th>14_pool</th>\n",
              "      <td>-</td>\n",
              "      <td>[16, 128, 64, 64]</td>\n",
              "      <td>NaN</td>\n",
              "      <td>NaN</td>\n",
              "    </tr>\n",
              "    <tr>\n",
              "      <th>15_conv4a</th>\n",
              "      <td>[128, 128, 3, 3]</td>\n",
              "      <td>[16, 128, 64, 64]</td>\n",
              "      <td>147584.0</td>\n",
              "      <td>6.039798e+08</td>\n",
              "    </tr>\n",
              "    <tr>\n",
              "      <th>16_relu</th>\n",
              "      <td>-</td>\n",
              "      <td>[16, 128, 64, 64]</td>\n",
              "      <td>NaN</td>\n",
              "      <td>NaN</td>\n",
              "    </tr>\n",
              "    <tr>\n",
              "      <th>17_conv4b</th>\n",
              "      <td>[128, 128, 3, 3]</td>\n",
              "      <td>[16, 128, 64, 64]</td>\n",
              "      <td>147584.0</td>\n",
              "      <td>6.039798e+08</td>\n",
              "    </tr>\n",
              "    <tr>\n",
              "      <th>18_relu</th>\n",
              "      <td>-</td>\n",
              "      <td>[16, 128, 64, 64]</td>\n",
              "      <td>NaN</td>\n",
              "      <td>NaN</td>\n",
              "    </tr>\n",
              "    <tr>\n",
              "      <th>19_convPa</th>\n",
              "      <td>[128, 256, 3, 3]</td>\n",
              "      <td>[16, 256, 64, 64]</td>\n",
              "      <td>295168.0</td>\n",
              "      <td>1.207960e+09</td>\n",
              "    </tr>\n",
              "    <tr>\n",
              "      <th>20_relu</th>\n",
              "      <td>-</td>\n",
              "      <td>[16, 256, 64, 64]</td>\n",
              "      <td>NaN</td>\n",
              "      <td>NaN</td>\n",
              "    </tr>\n",
              "    <tr>\n",
              "      <th>21_convPb</th>\n",
              "      <td>[256, 65, 1, 1]</td>\n",
              "      <td>[16, 65, 64, 64]</td>\n",
              "      <td>16705.0</td>\n",
              "      <td>6.815744e+07</td>\n",
              "    </tr>\n",
              "  </tbody>\n",
              "</table>\n",
              "</div>\n",
              "      <button class=\"colab-df-convert\" onclick=\"convertToInteractive('df-34967b19-7796-46c7-a611-0580670ec346')\"\n",
              "              title=\"Convert this dataframe to an interactive table.\"\n",
              "              style=\"display:none;\">\n",
              "        \n",
              "  <svg xmlns=\"http://www.w3.org/2000/svg\" height=\"24px\"viewBox=\"0 0 24 24\"\n",
              "       width=\"24px\">\n",
              "    <path d=\"M0 0h24v24H0V0z\" fill=\"none\"/>\n",
              "    <path d=\"M18.56 5.44l.94 2.06.94-2.06 2.06-.94-2.06-.94-.94-2.06-.94 2.06-2.06.94zm-11 1L8.5 8.5l.94-2.06 2.06-.94-2.06-.94L8.5 2.5l-.94 2.06-2.06.94zm10 10l.94 2.06.94-2.06 2.06-.94-2.06-.94-.94-2.06-.94 2.06-2.06.94z\"/><path d=\"M17.41 7.96l-1.37-1.37c-.4-.4-.92-.59-1.43-.59-.52 0-1.04.2-1.43.59L10.3 9.45l-7.72 7.72c-.78.78-.78 2.05 0 2.83L4 21.41c.39.39.9.59 1.41.59.51 0 1.02-.2 1.41-.59l7.78-7.78 2.81-2.81c.8-.78.8-2.07 0-2.86zM5.41 20L4 18.59l7.72-7.72 1.47 1.35L5.41 20z\"/>\n",
              "  </svg>\n",
              "      </button>\n",
              "      \n",
              "  <style>\n",
              "    .colab-df-container {\n",
              "      display:flex;\n",
              "      flex-wrap:wrap;\n",
              "      gap: 12px;\n",
              "    }\n",
              "\n",
              "    .colab-df-convert {\n",
              "      background-color: #E8F0FE;\n",
              "      border: none;\n",
              "      border-radius: 50%;\n",
              "      cursor: pointer;\n",
              "      display: none;\n",
              "      fill: #1967D2;\n",
              "      height: 32px;\n",
              "      padding: 0 0 0 0;\n",
              "      width: 32px;\n",
              "    }\n",
              "\n",
              "    .colab-df-convert:hover {\n",
              "      background-color: #E2EBFA;\n",
              "      box-shadow: 0px 1px 2px rgba(60, 64, 67, 0.3), 0px 1px 3px 1px rgba(60, 64, 67, 0.15);\n",
              "      fill: #174EA6;\n",
              "    }\n",
              "\n",
              "    [theme=dark] .colab-df-convert {\n",
              "      background-color: #3B4455;\n",
              "      fill: #D2E3FC;\n",
              "    }\n",
              "\n",
              "    [theme=dark] .colab-df-convert:hover {\n",
              "      background-color: #434B5C;\n",
              "      box-shadow: 0px 1px 3px 1px rgba(0, 0, 0, 0.15);\n",
              "      filter: drop-shadow(0px 1px 2px rgba(0, 0, 0, 0.3));\n",
              "      fill: #FFFFFF;\n",
              "    }\n",
              "  </style>\n",
              "\n",
              "      <script>\n",
              "        const buttonEl =\n",
              "          document.querySelector('#df-34967b19-7796-46c7-a611-0580670ec346 button.colab-df-convert');\n",
              "        buttonEl.style.display =\n",
              "          google.colab.kernel.accessAllowed ? 'block' : 'none';\n",
              "\n",
              "        async function convertToInteractive(key) {\n",
              "          const element = document.querySelector('#df-34967b19-7796-46c7-a611-0580670ec346');\n",
              "          const dataTable =\n",
              "            await google.colab.kernel.invokeFunction('convertToInteractive',\n",
              "                                                     [key], {});\n",
              "          if (!dataTable) return;\n",
              "\n",
              "          const docLinkHtml = 'Like what you see? Visit the ' +\n",
              "            '<a target=\"_blank\" href=https://colab.research.google.com/notebooks/data_table.ipynb>data table notebook</a>'\n",
              "            + ' to learn more about interactive tables.';\n",
              "          element.innerHTML = '';\n",
              "          dataTable['output_type'] = 'display_data';\n",
              "          await google.colab.output.renderOutput(dataTable, element);\n",
              "          const docLink = document.createElement('div');\n",
              "          docLink.innerHTML = docLinkHtml;\n",
              "          element.appendChild(docLink);\n",
              "        }\n",
              "      </script>\n",
              "    </div>\n",
              "  </div>\n",
              "  "
            ],
            "text/plain": [
              "               Kernel Shape         Output Shape    Params     Mult-Adds\n",
              "Layer                                                                   \n",
              "0_conv1a      [1, 64, 3, 3]   [16, 64, 512, 512]     640.0  1.509949e+08\n",
              "1_relu                    -   [16, 64, 512, 512]       NaN           NaN\n",
              "2_conv1b     [64, 64, 3, 3]   [16, 64, 512, 512]   36928.0  9.663676e+09\n",
              "3_relu                    -   [16, 64, 512, 512]       NaN           NaN\n",
              "4_pool                    -   [16, 64, 256, 256]       NaN           NaN\n",
              "5_conv2a     [64, 64, 3, 3]   [16, 64, 256, 256]   36928.0  2.415919e+09\n",
              "6_relu                    -   [16, 64, 256, 256]       NaN           NaN\n",
              "7_conv2b     [64, 64, 3, 3]   [16, 64, 256, 256]   36928.0  2.415919e+09\n",
              "8_relu                    -   [16, 64, 256, 256]       NaN           NaN\n",
              "9_pool                    -   [16, 64, 128, 128]       NaN           NaN\n",
              "10_conv3a   [64, 128, 3, 3]  [16, 128, 128, 128]   73856.0  1.207960e+09\n",
              "11_relu                   -  [16, 128, 128, 128]       NaN           NaN\n",
              "12_conv3b  [128, 128, 3, 3]  [16, 128, 128, 128]  147584.0  2.415919e+09\n",
              "13_relu                   -  [16, 128, 128, 128]       NaN           NaN\n",
              "14_pool                   -    [16, 128, 64, 64]       NaN           NaN\n",
              "15_conv4a  [128, 128, 3, 3]    [16, 128, 64, 64]  147584.0  6.039798e+08\n",
              "16_relu                   -    [16, 128, 64, 64]       NaN           NaN\n",
              "17_conv4b  [128, 128, 3, 3]    [16, 128, 64, 64]  147584.0  6.039798e+08\n",
              "18_relu                   -    [16, 128, 64, 64]       NaN           NaN\n",
              "19_convPa  [128, 256, 3, 3]    [16, 256, 64, 64]  295168.0  1.207960e+09\n",
              "20_relu                   -    [16, 256, 64, 64]       NaN           NaN\n",
              "21_convPb   [256, 65, 1, 1]     [16, 65, 64, 64]   16705.0  6.815744e+07"
            ]
          },
          "metadata": {},
          "execution_count": 6
        }
      ]
    },
    {
      "cell_type": "markdown",
      "source": [
        "# Loss"
      ],
      "metadata": {
        "id": "ZYULTDpNmxFl"
      }
    },
    {
      "cell_type": "code",
      "source": [
        "# loss computation\n",
        "\n",
        "# helper function that converts keypoint mappings to desired shape\n",
        "class SpaceToDepth(nn.Module):\n",
        "    '''\n",
        "    TF Op: tf.nn.space_to_depth\n",
        "    '''\n",
        "    def __init__(self, block_size):\n",
        "        super(SpaceToDepth, self).__init__()\n",
        "        self.block_size = block_size\n",
        "        self.block_size_sq = block_size*block_size\n",
        "\n",
        "    def forward(self, input):\n",
        "        output = input.permute(0, 2, 3, 1)\n",
        "        (batch_size, s_height, s_width, s_depth) = output.size()\n",
        "        d_depth = s_depth * self.block_size_sq\n",
        "        d_width = int(s_width / self.block_size)\n",
        "        d_height = int(s_height / self.block_size)\n",
        "        t_1 = output.split(self.block_size, 2)\n",
        "        stack = [t_t.contiguous().view(batch_size, d_height, d_depth) for t_t in t_1]\n",
        "        output = torch.stack(stack, 1)\n",
        "        output = output.permute(0, 2, 1, 3)\n",
        "        output = output.permute(0, 3, 1, 2)\n",
        "        return output\n",
        "\n",
        "# Cross Entropy Loss\n",
        "class CrossEntropyLoss(nn.Module):\n",
        "    def __init__(self):\n",
        "        super(CrossEntropyLoss, self).__init__()\n",
        "        self.loss_fn = nn.CrossEntropyLoss()\n",
        "\n",
        "    def forward(self, logits, target):\n",
        "        return self.loss_fn(logits, target)\n",
        "\n",
        "class DetectorLoss(nn.Module):\n",
        "    '''\n",
        "    Calculates the Error using the CrossEntropyLoss\n",
        "    Typically the grid_size is 8 so that can do that mapping in the comments\n",
        "    '''\n",
        "\n",
        "    def __init__(self, grid_size):\n",
        "        super(DetectorLoss, self).__init__()\n",
        "\n",
        "        self.grid_size = grid_size\n",
        "        self.s2d = SpaceToDepth(self.grid_size)\n",
        "\n",
        "    def forward(self, logits, keypoint_map):\n",
        "        '''\n",
        "        :param logits: Keypoint output from network is format B,C=65,H/8,W/8\n",
        "        :param keypoint_map: Ground truth keypoint map is of format 1,H,W\n",
        "        :param valid_mask:\n",
        "        :return:\n",
        "        '''\n",
        "        # Explanation:\n",
        "        # Model outputs to size C=65,H/8,W/8 . The 65 channels represent the 8x8 grid in the full scale version, +1\n",
        "        # for the no keypoint bin\n",
        "\n",
        "        # Modify keypoint map to correct size\n",
        "        labels = keypoint_map\n",
        "        labels = labels[:, None, :, :]\n",
        "        # Convert from 1xHxW to 64xH/8xW/8\n",
        "        labels = self.s2d.forward(labels)\n",
        "\n",
        "        new_shape = labels.shape\n",
        "        # print('labels after s2d', new_shape)\n",
        "        new_shape = torch.Size((new_shape[0], 1, new_shape[2], new_shape[3]))\n",
        "        # print('what is this', new_shape)\n",
        "\n",
        "        # # Here we add an extra channel for the no_keypoint_bin i.e channel 65 with all 1(ones)\n",
        "        # # And ensure all the keypoint locations have value 2 not 1\n",
        "        labels = torch.cat((2 * labels, torch.ones(new_shape, device=labels.device)), dim=1)\n",
        "        # labels is now size B,C=65,H,W\n",
        "        labels = labels.squeeze(0)\n",
        "        # print('adding in bin', labels.shape)\n",
        "\n",
        "        # we now take the argmax of the channels dimension. If there was a keypoint at a channel location then it has the\n",
        "        # value 2 so its index is the max. If instead though as in most cases there is no keypoint then it will return\n",
        "        # the 65 channel so index 64\n",
        "        labels = torch.argmax(labels, dim=1)\n",
        "        # print('labels after argmax',labels.shape)\n",
        "        # print('labels', labels.shape)\n",
        "        # print('logits',logits.shape)\n",
        "\n",
        "        # Mask the pixels if bordering artifacts appear\n",
        "        # valid_mask = torch.ones_like(keypoint_map)\n",
        "        # valid_mask = valid_mask[:, None, :, :].float()\n",
        "        # valid_mask = self.s2d.forward(valid_mask)\n",
        "        # valid_mask = torch.prod(valid_mask, dim=1)\n",
        "\n",
        "        # valid_mask = torch.ones_like(logits) if valid_mask is None else valid_mask\n",
        "        # valid_mask = valid_mask.float()\n",
        "        # valid_mask = torch.prod(valid_mask, dim=1)\n",
        "\n",
        "        loss_fn = nn.CrossEntropyLoss(reduction='none')\n",
        "        loss = loss_fn(logits, labels)\n",
        "        #Pytorch cross entropy weight argument works on the classes not the instances. So we just do the mask\n",
        "        #multiplication at the end\n",
        "        # print(loss.shape)\n",
        "        # print(valid_mask.shape)\n",
        "        # valid_loss=loss*valid_mask\n",
        "        return loss.mean()\n",
        "        # return loss"
      ],
      "metadata": {
        "id": "RZCGrSybaYbR"
      },
      "execution_count": 7,
      "outputs": []
    },
    {
      "cell_type": "markdown",
      "source": [
        "# Trainer"
      ],
      "metadata": {
        "id": "fKhWnT_cmy8X"
      }
    },
    {
      "cell_type": "code",
      "source": [
        "# Trainer\n",
        "# DEVICE = torch.device(\"cuda\" if torch.cuda.is_available() else \"cpu\")\n",
        "# print(\"Device: \", DEVICE)\n",
        "def train(model, dataloader, criterion, optimizer):\n",
        "\n",
        "    model.train()\n",
        "    batch_bar = tqdm(total=len(dataloader), dynamic_ncols=True, leave=False, position=0, desc='Train')\n",
        "\n",
        "    running_loss        = 0.0\n",
        "    \n",
        "    for i, (img, pts) in enumerate(dataloader):\n",
        "\n",
        "        optimizer.zero_grad()\n",
        "\n",
        "        img, pts = img.to(DEVICE), pts.to(DEVICE)\n",
        "\n",
        "        logits = model(img)\n",
        "\n",
        "        loss = criterion(logits, pts) #[None, :, :])\n",
        "\n",
        "        running_loss        += loss.item()\n",
        "\n",
        "        loss.backward()\n",
        "        optimizer.step()\n",
        "\n",
        "        batch_bar.set_postfix(\n",
        "            loss=\"{:.04f}\".format(running_loss/(i+1)),\n",
        "            lr=\"{:.04f}\".format(float(optimizer.param_groups[0]['lr'])))\n",
        "        batch_bar.update()\n",
        "\n",
        "        del img, pts\n",
        "        torch.cuda.empty_cache()\n",
        "\n",
        "    running_loss /= len(dataloader)\n",
        "\n",
        "    return running_loss"
      ],
      "metadata": {
        "id": "wkfNl1EJS5D2"
      },
      "execution_count": 8,
      "outputs": []
    },
    {
      "cell_type": "code",
      "source": [
        "def validate(model, dataloader):\n",
        "\n",
        "    model.eval()\n",
        "\n",
        "    batch_bar = tqdm(total=len(dataloader), dynamic_ncols=True, position=0, leave=False, desc=\"Val\")\n",
        "\n",
        "    val_loss = 0.0\n",
        "\n",
        "    for i, (img, pts) in enumerate(dataloader):\n",
        "\n",
        "        img, pts = img.to(DEVICE), pts.to(DEVICE)\n",
        "\n",
        "        with torch.inference_mode():\n",
        "            logits = model(img)\n",
        "\n",
        "        loss = criterion(logits, pts) #[None, :, :])\n",
        "\n",
        "        val_loss        += loss.item()\n",
        "\n",
        "        batch_bar.set_postfix(\n",
        "            loss=\"{:.04f}\".format(val_loss/(i+1)))\n",
        "        batch_bar.update()\n",
        "\n",
        "        del img, pts\n",
        "        torch.cuda.empty_cache()\n",
        "\n",
        "    batch_bar.close()\n",
        "    val_loss /= len(dataloader)\n",
        "    scheduler.step(val_loss)\n",
        "\n",
        "    return val_loss"
      ],
      "metadata": {
        "id": "7yhb5VHEUxol"
      },
      "execution_count": 9,
      "outputs": []
    },
    {
      "cell_type": "markdown",
      "source": [
        "# Optimizer, Scheduler, Loss"
      ],
      "metadata": {
        "id": "bii5sHlIm8DX"
      }
    },
    {
      "cell_type": "code",
      "source": [
        "optimizer = torch.optim.Adam(superpoint.parameters(), lr=0.001)\n",
        "criterion = DetectorLoss(8)\n",
        "scheduler = torch.optim.lr_scheduler.ReduceLROnPlateau(optimizer, patience = 5, factor = 0.7, threshold=0.01, verbose=True)"
      ],
      "metadata": {
        "id": "XnVeL7kVAEHN"
      },
      "execution_count": 10,
      "outputs": []
    },
    {
      "cell_type": "markdown",
      "source": [
        "# Wandb"
      ],
      "metadata": {
        "id": "CC2N96mmnvdo"
      }
    },
    {
      "cell_type": "code",
      "source": [
        "import wandb\n",
        "wandb.login(key=\"your key here\")"
      ],
      "metadata": {
        "id": "1NHcz5QzaRHh",
        "colab": {
          "base_uri": "https://localhost:8080/"
        },
        "outputId": "839310e9-fe80-4cee-90ba-88e65ae506c8"
      },
      "execution_count": 11,
      "outputs": [
        {
          "output_type": "stream",
          "name": "stderr",
          "text": [
            "Failed to detect the name of this notebook, you can set it manually with the WANDB_NOTEBOOK_NAME environment variable to enable code saving.\n",
            "\u001b[34m\u001b[1mwandb\u001b[0m: Currently logged in as: \u001b[33myoonichoi\u001b[0m. Use \u001b[1m`wandb login --relogin`\u001b[0m to force relogin\n",
            "\u001b[34m\u001b[1mwandb\u001b[0m: \u001b[33mWARNING\u001b[0m If you're specifying your api key in code, ensure this code is not shared publicly.\n",
            "\u001b[34m\u001b[1mwandb\u001b[0m: \u001b[33mWARNING\u001b[0m Consider setting the WANDB_API_KEY environment variable, or running `wandb login` from the command line.\n",
            "\u001b[34m\u001b[1mwandb\u001b[0m: Appending key for api.wandb.ai to your netrc file: /root/.netrc\n"
          ]
        },
        {
          "output_type": "execute_result",
          "data": {
            "text/plain": [
              "True"
            ]
          },
          "metadata": {},
          "execution_count": 11
        }
      ]
    },
    {
      "cell_type": "code",
      "source": [
        "run = wandb.init(\n",
        "    name = 'superpointrun',\n",
        "    reinit = True,\n",
        "    # id = ##,\n",
        "    # resume = True,\n",
        "    project = 'superpoint_sonar'\n",
        ")"
      ],
      "metadata": {
        "id": "MVKJgOWHGB3T",
        "colab": {
          "base_uri": "https://localhost:8080/",
          "height": 69
        },
        "outputId": "3a22b3e9-4063-43e2-bcfa-f0d398a076df"
      },
      "execution_count": 12,
      "outputs": [
        {
          "output_type": "display_data",
          "data": {
            "text/html": [
              "Tracking run with wandb version 0.13.6"
            ],
            "text/plain": [
              "<IPython.core.display.HTML object>"
            ]
          },
          "metadata": {}
        },
        {
          "output_type": "display_data",
          "data": {
            "text/html": [
              "Run data is saved locally in <code>/content/wandb/run-20221208_055925-25xb2qtx</code>"
            ],
            "text/plain": [
              "<IPython.core.display.HTML object>"
            ]
          },
          "metadata": {}
        },
        {
          "output_type": "display_data",
          "data": {
            "text/html": [
              "Syncing run <strong><a href=\"https://wandb.ai/yoonichoi/idl-final-project/runs/25xb2qtx\" target=\"_blank\">superpointrun</a></strong> to <a href=\"https://wandb.ai/yoonichoi/idl-final-project\" target=\"_blank\">Weights & Biases</a> (<a href=\"https://wandb.me/run\" target=\"_blank\">docs</a>)<br/>"
            ],
            "text/plain": [
              "<IPython.core.display.HTML object>"
            ]
          },
          "metadata": {}
        }
      ]
    },
    {
      "cell_type": "markdown",
      "source": [
        "# Experiments"
      ],
      "metadata": {
        "id": "iWsANkhXoYHw"
      }
    },
    {
      "cell_type": "code",
      "source": [
        "best_loss = float('inf')\n",
        "epochs = 60\n",
        "current_model_checkpoint = \"\"\n",
        "best_model_checkpoint = \"\"\n",
        "\n",
        "for epoch in range(epochs):\n",
        "    \n",
        "    curr_lr = float(optimizer.param_groups[0]['lr'])\n",
        "\n",
        "    print(\"\\nEpoch: {}/{}\".format(epoch+1, epochs))\n",
        "\n",
        "    # Call train and validate \n",
        "    train_loss = train(superpoint, train_loader, criterion, optimizer)\n",
        "    val_loss = validate(superpoint, val_loader)\n",
        "\n",
        "    # Print your metrics\n",
        "    print(\"\\nEpoch {}/{}: \\nTrain Loss {:.04f}\\t Learning Rate {:.04f}\".format(\n",
        "          epoch+1, epochs, train_loss, curr_lr))\n",
        "    print(\"Val loss {:.04f}\".format(val_loss))\n",
        "\n",
        "\n",
        "    # Log metrics to Wandb\n",
        "    wandb.log({\"train_loss\": train_loss, \"learning_rate\":curr_lr, \"validation_distance\":val_loss})\n",
        "\n",
        "    \n",
        "\n",
        "    # Optional: Scheduler Step / Teacher Force Schedule Step\n",
        "\n",
        "\n",
        "    torch.save({'model_state_dict':superpoint.state_dict(),\n",
        "                'optimizer_state_dict':optimizer.state_dict(),\n",
        "                'val_loss': val_loss, \n",
        "                'epoch': epoch}, current_model_checkpoint)\n",
        "\n",
        "    if val_loss <= best_loss:\n",
        "        best_loss = val_loss\n",
        "        # Save your model checkpoint here\n",
        "        print(\"Updating Best model\")\n",
        "        torch.save({'model_state_dict':superpoint.state_dict(),\n",
        "                    'optimizer_state_dict':optimizer.state_dict(),\n",
        "                    'val_loss': val_loss, \n",
        "                    'epoch': epoch}, best_model_checkpoint)\n",
        "        wandb.save('checkpoint.pth')\n",
        "\n",
        "run.finish()"
      ],
      "metadata": {
        "colab": {
          "base_uri": "https://localhost:8080/",
          "height": 1000
        },
        "id": "pENSm2E7oU9h",
        "outputId": "05aeeb18-632e-4855-ec70-9e32811073de"
      },
      "execution_count": 13,
      "outputs": [
        {
          "output_type": "stream",
          "name": "stdout",
          "text": [
            "\n",
            "Epoch: 1/60\n"
          ]
        },
        {
          "output_type": "stream",
          "name": "stderr",
          "text": []
        },
        {
          "output_type": "stream",
          "name": "stdout",
          "text": [
            "\n",
            "Epoch 1/60: \n",
            "Train Loss 0.2549\t Learning Rate 0.0010\n",
            "Val loss 0.0151\n",
            "Updating Best model\n",
            "\n",
            "Epoch: 2/60\n"
          ]
        },
        {
          "output_type": "stream",
          "name": "stderr",
          "text": []
        },
        {
          "output_type": "stream",
          "name": "stdout",
          "text": [
            "\n",
            "Epoch 2/60: \n",
            "Train Loss 0.0112\t Learning Rate 0.0010\n",
            "Val loss 0.0099\n",
            "Updating Best model\n",
            "\n",
            "Epoch: 3/60\n"
          ]
        },
        {
          "output_type": "stream",
          "name": "stderr",
          "text": []
        },
        {
          "output_type": "stream",
          "name": "stdout",
          "text": [
            "\n",
            "Epoch 3/60: \n",
            "Train Loss 0.0097\t Learning Rate 0.0010\n",
            "Val loss 0.0097\n",
            "Updating Best model\n",
            "\n",
            "Epoch: 4/60\n"
          ]
        },
        {
          "output_type": "stream",
          "name": "stderr",
          "text": []
        },
        {
          "output_type": "stream",
          "name": "stdout",
          "text": [
            "\n",
            "Epoch 4/60: \n",
            "Train Loss 0.0096\t Learning Rate 0.0010\n",
            "Val loss 0.0097\n",
            "Updating Best model\n",
            "\n",
            "Epoch: 5/60\n"
          ]
        },
        {
          "output_type": "stream",
          "name": "stderr",
          "text": []
        },
        {
          "output_type": "stream",
          "name": "stdout",
          "text": [
            "\n",
            "Epoch 5/60: \n",
            "Train Loss 0.0095\t Learning Rate 0.0010\n",
            "Val loss 0.0099\n",
            "\n",
            "Epoch: 6/60\n"
          ]
        },
        {
          "output_type": "stream",
          "name": "stderr",
          "text": []
        },
        {
          "output_type": "stream",
          "name": "stdout",
          "text": [
            "\n",
            "Epoch 6/60: \n",
            "Train Loss 0.0095\t Learning Rate 0.0010\n",
            "Val loss 0.0096\n",
            "Updating Best model\n",
            "\n",
            "Epoch: 7/60\n"
          ]
        },
        {
          "output_type": "stream",
          "name": "stderr",
          "text": []
        },
        {
          "output_type": "stream",
          "name": "stdout",
          "text": [
            "\n",
            "Epoch 7/60: \n",
            "Train Loss 0.0094\t Learning Rate 0.0010\n",
            "Val loss 0.0096\n",
            "\n",
            "Epoch: 8/60\n"
          ]
        },
        {
          "output_type": "stream",
          "name": "stderr",
          "text": []
        },
        {
          "output_type": "stream",
          "name": "stdout",
          "text": [
            "\n",
            "Epoch 8/60: \n",
            "Train Loss 0.0094\t Learning Rate 0.0010\n",
            "Val loss 0.0095\n",
            "Updating Best model\n",
            "\n",
            "Epoch: 9/60\n"
          ]
        },
        {
          "output_type": "stream",
          "name": "stderr",
          "text": []
        },
        {
          "output_type": "stream",
          "name": "stdout",
          "text": [
            "\n",
            "Epoch 9/60: \n",
            "Train Loss 0.0095\t Learning Rate 0.0010\n",
            "Val loss 0.0098\n",
            "\n",
            "Epoch: 10/60\n"
          ]
        },
        {
          "output_type": "stream",
          "name": "stderr",
          "text": []
        },
        {
          "output_type": "stream",
          "name": "stdout",
          "text": [
            "\n",
            "Epoch 10/60: \n",
            "Train Loss 0.0094\t Learning Rate 0.0010\n",
            "Val loss 0.0095\n",
            "\n",
            "Epoch: 11/60\n"
          ]
        },
        {
          "output_type": "stream",
          "name": "stderr",
          "text": []
        },
        {
          "output_type": "stream",
          "name": "stdout",
          "text": [
            "\n",
            "Epoch 11/60: \n",
            "Train Loss 0.0093\t Learning Rate 0.0010\n",
            "Val loss 0.0095\n",
            "Updating Best model\n",
            "\n",
            "Epoch: 12/60\n"
          ]
        },
        {
          "output_type": "stream",
          "name": "stderr",
          "text": []
        },
        {
          "output_type": "stream",
          "name": "stdout",
          "text": [
            "\n",
            "Epoch 12/60: \n",
            "Train Loss 0.0093\t Learning Rate 0.0010\n",
            "Val loss 0.0095\n",
            "\n",
            "Epoch: 13/60\n"
          ]
        },
        {
          "output_type": "stream",
          "name": "stderr",
          "text": []
        },
        {
          "output_type": "stream",
          "name": "stdout",
          "text": [
            "\n",
            "Epoch 13/60: \n",
            "Train Loss 0.0092\t Learning Rate 0.0010\n",
            "Val loss 0.0094\n",
            "Updating Best model\n",
            "\n",
            "Epoch: 14/60\n"
          ]
        },
        {
          "output_type": "stream",
          "name": "stderr",
          "text": []
        },
        {
          "output_type": "stream",
          "name": "stdout",
          "text": [
            "Epoch    14: reducing learning rate of group 0 to 7.0000e-04.\n",
            "\n",
            "Epoch 14/60: \n",
            "Train Loss 0.0092\t Learning Rate 0.0010\n",
            "Val loss 0.0096\n",
            "\n",
            "Epoch: 15/60\n"
          ]
        },
        {
          "output_type": "stream",
          "name": "stderr",
          "text": []
        },
        {
          "output_type": "stream",
          "name": "stdout",
          "text": [
            "\n",
            "Epoch 15/60: \n",
            "Train Loss 0.0092\t Learning Rate 0.0007\n",
            "Val loss 0.0095\n",
            "\n",
            "Epoch: 16/60\n"
          ]
        },
        {
          "output_type": "stream",
          "name": "stderr",
          "text": []
        },
        {
          "output_type": "stream",
          "name": "stdout",
          "text": [
            "\n",
            "Epoch 16/60: \n",
            "Train Loss 0.0092\t Learning Rate 0.0007\n",
            "Val loss 0.0094\n",
            "\n",
            "Epoch: 17/60\n"
          ]
        },
        {
          "output_type": "stream",
          "name": "stderr",
          "text": []
        },
        {
          "output_type": "stream",
          "name": "stdout",
          "text": [
            "\n",
            "Epoch 17/60: \n",
            "Train Loss 0.0091\t Learning Rate 0.0007\n",
            "Val loss 0.0094\n",
            "Updating Best model\n",
            "\n",
            "Epoch: 18/60\n"
          ]
        },
        {
          "output_type": "stream",
          "name": "stderr",
          "text": []
        },
        {
          "output_type": "stream",
          "name": "stdout",
          "text": [
            "\n",
            "Epoch 18/60: \n",
            "Train Loss 0.0091\t Learning Rate 0.0007\n",
            "Val loss 0.0095\n",
            "\n",
            "Epoch: 19/60\n"
          ]
        },
        {
          "output_type": "stream",
          "name": "stderr",
          "text": []
        },
        {
          "output_type": "stream",
          "name": "stdout",
          "text": [
            "\n",
            "Epoch 19/60: \n",
            "Train Loss 0.0092\t Learning Rate 0.0007\n",
            "Val loss 0.0094\n",
            "\n",
            "Epoch: 20/60\n"
          ]
        },
        {
          "output_type": "stream",
          "name": "stderr",
          "text": []
        },
        {
          "output_type": "stream",
          "name": "stdout",
          "text": [
            "\n",
            "Epoch 20/60: \n",
            "Train Loss 0.0091\t Learning Rate 0.0007\n",
            "Val loss 0.0094\n",
            "\n",
            "Epoch: 21/60\n"
          ]
        },
        {
          "output_type": "stream",
          "name": "stderr",
          "text": []
        },
        {
          "output_type": "stream",
          "name": "stdout",
          "text": [
            "\n",
            "Epoch 21/60: \n",
            "Train Loss 0.0091\t Learning Rate 0.0007\n",
            "Val loss 0.0095\n",
            "\n",
            "Epoch: 22/60\n"
          ]
        },
        {
          "output_type": "stream",
          "name": "stderr",
          "text": []
        },
        {
          "output_type": "stream",
          "name": "stdout",
          "text": [
            "\n",
            "Epoch 22/60: \n",
            "Train Loss 0.0091\t Learning Rate 0.0007\n",
            "Val loss 0.0094\n",
            "\n",
            "Epoch: 23/60\n"
          ]
        },
        {
          "output_type": "stream",
          "name": "stderr",
          "text": []
        },
        {
          "output_type": "stream",
          "name": "stdout",
          "text": [
            "Epoch    23: reducing learning rate of group 0 to 4.9000e-04.\n",
            "\n",
            "Epoch 23/60: \n",
            "Train Loss 0.0091\t Learning Rate 0.0007\n",
            "Val loss 0.0094\n",
            "\n",
            "Epoch: 24/60\n"
          ]
        },
        {
          "output_type": "stream",
          "name": "stderr",
          "text": []
        },
        {
          "output_type": "stream",
          "name": "stdout",
          "text": [
            "\n",
            "Epoch 24/60: \n",
            "Train Loss 0.0091\t Learning Rate 0.0005\n",
            "Val loss 0.0094\n",
            "\n",
            "Epoch: 25/60\n"
          ]
        },
        {
          "output_type": "stream",
          "name": "stderr",
          "text": []
        },
        {
          "output_type": "stream",
          "name": "stdout",
          "text": [
            "\n",
            "Epoch 25/60: \n",
            "Train Loss 0.0091\t Learning Rate 0.0005\n",
            "Val loss 0.0094\n",
            "\n",
            "Epoch: 26/60\n"
          ]
        },
        {
          "output_type": "stream",
          "name": "stderr",
          "text": []
        },
        {
          "output_type": "stream",
          "name": "stdout",
          "text": [
            "\n",
            "Epoch 26/60: \n",
            "Train Loss 0.0090\t Learning Rate 0.0005\n",
            "Val loss 0.0094\n",
            "\n",
            "Epoch: 27/60\n"
          ]
        },
        {
          "output_type": "stream",
          "name": "stderr",
          "text": []
        },
        {
          "output_type": "stream",
          "name": "stdout",
          "text": [
            "\n",
            "Epoch 27/60: \n",
            "Train Loss 0.0090\t Learning Rate 0.0005\n",
            "Val loss 0.0097\n",
            "\n",
            "Epoch: 28/60\n"
          ]
        },
        {
          "output_type": "stream",
          "name": "stderr",
          "text": []
        },
        {
          "output_type": "stream",
          "name": "stdout",
          "text": [
            "\n",
            "Epoch 28/60: \n",
            "Train Loss 0.0091\t Learning Rate 0.0005\n",
            "Val loss 0.0095\n",
            "\n",
            "Epoch: 29/60\n"
          ]
        },
        {
          "output_type": "stream",
          "name": "stderr",
          "text": []
        },
        {
          "output_type": "stream",
          "name": "stdout",
          "text": [
            "Epoch    29: reducing learning rate of group 0 to 3.4300e-04.\n",
            "\n",
            "Epoch 29/60: \n",
            "Train Loss 0.0090\t Learning Rate 0.0005\n",
            "Val loss 0.0095\n",
            "\n",
            "Epoch: 30/60\n"
          ]
        },
        {
          "output_type": "stream",
          "name": "stderr",
          "text": []
        },
        {
          "output_type": "stream",
          "name": "stdout",
          "text": [
            "\n",
            "Epoch 30/60: \n",
            "Train Loss 0.0090\t Learning Rate 0.0003\n",
            "Val loss 0.0095\n",
            "\n",
            "Epoch: 31/60\n"
          ]
        },
        {
          "output_type": "stream",
          "name": "stderr",
          "text": []
        },
        {
          "output_type": "stream",
          "name": "stdout",
          "text": [
            "\n",
            "Epoch 31/60: \n",
            "Train Loss 0.0090\t Learning Rate 0.0003\n",
            "Val loss 0.0095\n",
            "\n",
            "Epoch: 32/60\n"
          ]
        },
        {
          "output_type": "stream",
          "name": "stderr",
          "text": []
        },
        {
          "output_type": "stream",
          "name": "stdout",
          "text": [
            "\n",
            "Epoch 32/60: \n",
            "Train Loss 0.0090\t Learning Rate 0.0003\n",
            "Val loss 0.0095\n",
            "\n",
            "Epoch: 33/60\n"
          ]
        },
        {
          "output_type": "stream",
          "name": "stderr",
          "text": []
        },
        {
          "output_type": "stream",
          "name": "stdout",
          "text": [
            "\n",
            "Epoch 33/60: \n",
            "Train Loss 0.0090\t Learning Rate 0.0003\n",
            "Val loss 0.0095\n",
            "\n",
            "Epoch: 34/60\n"
          ]
        },
        {
          "output_type": "stream",
          "name": "stderr",
          "text": []
        },
        {
          "output_type": "stream",
          "name": "stdout",
          "text": [
            "\n",
            "Epoch 34/60: \n",
            "Train Loss 0.0090\t Learning Rate 0.0003\n",
            "Val loss 0.0095\n",
            "\n",
            "Epoch: 35/60\n"
          ]
        },
        {
          "output_type": "stream",
          "name": "stderr",
          "text": []
        },
        {
          "output_type": "stream",
          "name": "stdout",
          "text": [
            "Epoch    35: reducing learning rate of group 0 to 2.4010e-04.\n",
            "\n",
            "Epoch 35/60: \n",
            "Train Loss 0.0090\t Learning Rate 0.0003\n",
            "Val loss 0.0095\n",
            "\n",
            "Epoch: 36/60\n"
          ]
        },
        {
          "output_type": "stream",
          "name": "stderr",
          "text": []
        },
        {
          "output_type": "stream",
          "name": "stdout",
          "text": [
            "\n",
            "Epoch 36/60: \n",
            "Train Loss 0.0090\t Learning Rate 0.0002\n",
            "Val loss 0.0095\n",
            "\n",
            "Epoch: 37/60\n"
          ]
        },
        {
          "output_type": "stream",
          "name": "stderr",
          "text": []
        },
        {
          "output_type": "stream",
          "name": "stdout",
          "text": [
            "\n",
            "Epoch 37/60: \n",
            "Train Loss 0.0090\t Learning Rate 0.0002\n",
            "Val loss 0.0095\n",
            "\n",
            "Epoch: 38/60\n"
          ]
        },
        {
          "output_type": "stream",
          "name": "stderr",
          "text": []
        },
        {
          "output_type": "stream",
          "name": "stdout",
          "text": [
            "\n",
            "Epoch 38/60: \n",
            "Train Loss 0.0089\t Learning Rate 0.0002\n",
            "Val loss 0.0095\n",
            "\n",
            "Epoch: 39/60\n"
          ]
        },
        {
          "output_type": "stream",
          "name": "stderr",
          "text": []
        },
        {
          "output_type": "stream",
          "name": "stdout",
          "text": [
            "\n",
            "Epoch 39/60: \n",
            "Train Loss 0.0089\t Learning Rate 0.0002\n",
            "Val loss 0.0095\n",
            "\n",
            "Epoch: 40/60\n"
          ]
        },
        {
          "output_type": "stream",
          "name": "stderr",
          "text": []
        },
        {
          "output_type": "stream",
          "name": "stdout",
          "text": [
            "\n",
            "Epoch 40/60: \n",
            "Train Loss 0.0089\t Learning Rate 0.0002\n",
            "Val loss 0.0095\n",
            "\n",
            "Epoch: 41/60\n"
          ]
        },
        {
          "output_type": "stream",
          "name": "stderr",
          "text": []
        },
        {
          "output_type": "stream",
          "name": "stdout",
          "text": [
            "Epoch    41: reducing learning rate of group 0 to 1.6807e-04.\n",
            "\n",
            "Epoch 41/60: \n",
            "Train Loss 0.0089\t Learning Rate 0.0002\n",
            "Val loss 0.0095\n",
            "\n",
            "Epoch: 42/60\n"
          ]
        },
        {
          "output_type": "stream",
          "name": "stderr",
          "text": []
        },
        {
          "output_type": "stream",
          "name": "stdout",
          "text": [
            "\n",
            "Epoch 42/60: \n",
            "Train Loss 0.0089\t Learning Rate 0.0002\n",
            "Val loss 0.0095\n",
            "\n",
            "Epoch: 43/60\n"
          ]
        },
        {
          "output_type": "stream",
          "name": "stderr",
          "text": []
        },
        {
          "output_type": "stream",
          "name": "stdout",
          "text": [
            "\n",
            "Epoch 43/60: \n",
            "Train Loss 0.0089\t Learning Rate 0.0002\n",
            "Val loss 0.0095\n",
            "\n",
            "Epoch: 44/60\n"
          ]
        },
        {
          "output_type": "stream",
          "name": "stderr",
          "text": []
        },
        {
          "output_type": "stream",
          "name": "stdout",
          "text": [
            "\n",
            "Epoch 44/60: \n",
            "Train Loss 0.0089\t Learning Rate 0.0002\n",
            "Val loss 0.0096\n",
            "\n",
            "Epoch: 45/60\n"
          ]
        },
        {
          "output_type": "stream",
          "name": "stderr",
          "text": []
        },
        {
          "output_type": "stream",
          "name": "stdout",
          "text": [
            "\n",
            "Epoch 45/60: \n",
            "Train Loss 0.0089\t Learning Rate 0.0002\n",
            "Val loss 0.0096\n",
            "\n",
            "Epoch: 46/60\n"
          ]
        },
        {
          "output_type": "stream",
          "name": "stderr",
          "text": []
        },
        {
          "output_type": "stream",
          "name": "stdout",
          "text": [
            "\n",
            "Epoch 46/60: \n",
            "Train Loss 0.0089\t Learning Rate 0.0002\n",
            "Val loss 0.0096\n",
            "\n",
            "Epoch: 47/60\n"
          ]
        },
        {
          "output_type": "stream",
          "name": "stderr",
          "text": []
        },
        {
          "output_type": "stream",
          "name": "stdout",
          "text": [
            "Epoch    47: reducing learning rate of group 0 to 1.1765e-04.\n",
            "\n",
            "Epoch 47/60: \n",
            "Train Loss 0.0089\t Learning Rate 0.0002\n",
            "Val loss 0.0096\n",
            "\n",
            "Epoch: 48/60\n"
          ]
        },
        {
          "output_type": "stream",
          "name": "stderr",
          "text": []
        },
        {
          "output_type": "stream",
          "name": "stdout",
          "text": [
            "\n",
            "Epoch 48/60: \n",
            "Train Loss 0.0089\t Learning Rate 0.0001\n",
            "Val loss 0.0096\n",
            "\n",
            "Epoch: 49/60\n"
          ]
        },
        {
          "output_type": "stream",
          "name": "stderr",
          "text": []
        },
        {
          "output_type": "stream",
          "name": "stdout",
          "text": [
            "\n",
            "Epoch 49/60: \n",
            "Train Loss 0.0088\t Learning Rate 0.0001\n",
            "Val loss 0.0096\n",
            "\n",
            "Epoch: 50/60\n"
          ]
        },
        {
          "output_type": "stream",
          "name": "stderr",
          "text": []
        },
        {
          "output_type": "stream",
          "name": "stdout",
          "text": [
            "\n",
            "Epoch 50/60: \n",
            "Train Loss 0.0089\t Learning Rate 0.0001\n",
            "Val loss 0.0096\n",
            "\n",
            "Epoch: 51/60\n"
          ]
        },
        {
          "output_type": "stream",
          "name": "stderr",
          "text": []
        },
        {
          "output_type": "stream",
          "name": "stdout",
          "text": [
            "\n",
            "Epoch 51/60: \n",
            "Train Loss 0.0088\t Learning Rate 0.0001\n",
            "Val loss 0.0096\n",
            "\n",
            "Epoch: 52/60\n"
          ]
        },
        {
          "output_type": "stream",
          "name": "stderr",
          "text": []
        },
        {
          "output_type": "stream",
          "name": "stdout",
          "text": [
            "\n",
            "Epoch 52/60: \n",
            "Train Loss 0.0088\t Learning Rate 0.0001\n",
            "Val loss 0.0096\n",
            "\n",
            "Epoch: 53/60\n"
          ]
        },
        {
          "output_type": "stream",
          "name": "stderr",
          "text": []
        },
        {
          "output_type": "stream",
          "name": "stdout",
          "text": [
            "Epoch    53: reducing learning rate of group 0 to 8.2354e-05.\n",
            "\n",
            "Epoch 53/60: \n",
            "Train Loss 0.0088\t Learning Rate 0.0001\n",
            "Val loss 0.0096\n",
            "\n",
            "Epoch: 54/60\n"
          ]
        },
        {
          "output_type": "stream",
          "name": "stderr",
          "text": []
        },
        {
          "output_type": "stream",
          "name": "stdout",
          "text": [
            "\n",
            "Epoch 54/60: \n",
            "Train Loss 0.0088\t Learning Rate 0.0001\n",
            "Val loss 0.0096\n",
            "\n",
            "Epoch: 55/60\n"
          ]
        },
        {
          "output_type": "stream",
          "name": "stderr",
          "text": []
        },
        {
          "output_type": "stream",
          "name": "stdout",
          "text": [
            "\n",
            "Epoch 55/60: \n",
            "Train Loss 0.0088\t Learning Rate 0.0001\n",
            "Val loss 0.0096\n",
            "\n",
            "Epoch: 56/60\n"
          ]
        },
        {
          "output_type": "stream",
          "name": "stderr",
          "text": []
        },
        {
          "output_type": "stream",
          "name": "stdout",
          "text": [
            "\n",
            "Epoch 56/60: \n",
            "Train Loss 0.0088\t Learning Rate 0.0001\n",
            "Val loss 0.0096\n",
            "\n",
            "Epoch: 57/60\n"
          ]
        },
        {
          "output_type": "stream",
          "name": "stderr",
          "text": []
        },
        {
          "output_type": "stream",
          "name": "stdout",
          "text": [
            "\n",
            "Epoch 57/60: \n",
            "Train Loss 0.0088\t Learning Rate 0.0001\n",
            "Val loss 0.0096\n",
            "\n",
            "Epoch: 58/60\n"
          ]
        },
        {
          "output_type": "stream",
          "name": "stderr",
          "text": []
        },
        {
          "output_type": "stream",
          "name": "stdout",
          "text": [
            "\n",
            "Epoch 58/60: \n",
            "Train Loss 0.0088\t Learning Rate 0.0001\n",
            "Val loss 0.0096\n",
            "\n",
            "Epoch: 59/60\n"
          ]
        },
        {
          "output_type": "stream",
          "name": "stderr",
          "text": []
        },
        {
          "output_type": "stream",
          "name": "stdout",
          "text": [
            "Epoch    59: reducing learning rate of group 0 to 5.7648e-05.\n",
            "\n",
            "Epoch 59/60: \n",
            "Train Loss 0.0088\t Learning Rate 0.0001\n",
            "Val loss 0.0096\n",
            "\n",
            "Epoch: 60/60\n"
          ]
        },
        {
          "output_type": "stream",
          "name": "stderr",
          "text": [
            "                                                               "
          ]
        },
        {
          "output_type": "stream",
          "name": "stdout",
          "text": [
            "\n",
            "Epoch 60/60: \n",
            "Train Loss 0.0088\t Learning Rate 0.0001\n",
            "Val loss 0.0097\n"
          ]
        },
        {
          "output_type": "stream",
          "name": "stderr",
          "text": [
            "\r"
          ]
        },
        {
          "output_type": "display_data",
          "data": {
            "text/html": [
              "Waiting for W&B process to finish... <strong style=\"color:green\">(success).</strong>"
            ],
            "text/plain": [
              "<IPython.core.display.HTML object>"
            ]
          },
          "metadata": {}
        },
        {
          "output_type": "display_data",
          "data": {
            "text/html": [
              "<style>\n",
              "    table.wandb td:nth-child(1) { padding: 0 10px; text-align: left ; width: auto;} td:nth-child(2) {text-align: left ; width: 100%}\n",
              "    .wandb-row { display: flex; flex-direction: row; flex-wrap: wrap; justify-content: flex-start; width: 100% }\n",
              "    .wandb-col { display: flex; flex-direction: column; flex-basis: 100%; flex: 1; padding: 10px; }\n",
              "    </style>\n",
              "<div class=\"wandb-row\"><div class=\"wandb-col\"><h3>Run history:</h3><br/><table class=\"wandb\"><tr><td>learning_rate</td><td>██████████▆▆▆▆▆▆▄▄▄▄▃▃▃▃▂▂▂▂▂▂▂▂▁▁▁▁▁▁▁▁</td></tr><tr><td>train_loss</td><td>█▁▁▁▁▁▁▁▁▁▁▁▁▁▁▁▁▁▁▁▁▁▁▁▁▁▁▁▁▁▁▁▁▁▁▁▁▁▁▁</td></tr><tr><td>validation_distance</td><td>█▂▁▂▁▁▁▁▁▁▁▁▁▁▁▁▁▁▁▁▁▁▁▁▁▁▁▁▁▁▁▁▁▁▁▁▁▁▁▁</td></tr></table><br/></div><div class=\"wandb-col\"><h3>Run summary:</h3><br/><table class=\"wandb\"><tr><td>learning_rate</td><td>6e-05</td></tr><tr><td>train_loss</td><td>0.00879</td></tr><tr><td>validation_distance</td><td>0.00965</td></tr></table><br/></div></div>"
            ],
            "text/plain": [
              "<IPython.core.display.HTML object>"
            ]
          },
          "metadata": {}
        },
        {
          "output_type": "display_data",
          "data": {
            "text/html": [
              "Synced <strong style=\"color:#cdcd00\">superpointrun</strong>: <a href=\"https://wandb.ai/yoonichoi/idl-final-project/runs/25xb2qtx\" target=\"_blank\">https://wandb.ai/yoonichoi/idl-final-project/runs/25xb2qtx</a><br/>Synced 5 W&B file(s), 0 media file(s), 0 artifact file(s) and 0 other file(s)"
            ],
            "text/plain": [
              "<IPython.core.display.HTML object>"
            ]
          },
          "metadata": {}
        },
        {
          "output_type": "display_data",
          "data": {
            "text/html": [
              "Find logs at: <code>./wandb/run-20221208_055925-25xb2qtx/logs</code>"
            ],
            "text/plain": [
              "<IPython.core.display.HTML object>"
            ]
          },
          "metadata": {}
        }
      ]
    },
    {
      "cell_type": "markdown",
      "source": [
        "# Testing"
      ],
      "metadata": {
        "id": "3_4sVyrmvpNA"
      }
    },
    {
      "cell_type": "code",
      "source": [
        "def testing():\n",
        "    superpoint.eval()\n",
        "    total_loss = 0\n",
        "    \n",
        "    batch_bar = tqdm(total=len(test_loader), dynamic_ncols=True, position=0, leave=False, desc='Test')\n",
        "    for i, (img, pts) in enumerate(test_loader):\n",
        "\n",
        "        img, pts = img.to(DEVICE), pts.to(DEVICE)\n",
        "\n",
        "        with torch.no_grad():\n",
        "            prediction = superpoint(img)\n",
        "            loss = criterion(prediction, pts)\n",
        "            batch_size = img.shape[0]\n",
        "            total_loss += loss.item() * batch_size\n",
        "        break\n",
        "        batch_bar.update()\n",
        "    return total_loss / len(test_loader)"
      ],
      "metadata": {
        "id": "lY6oqNnorIgm"
      },
      "execution_count": 16,
      "outputs": []
    },
    {
      "cell_type": "code",
      "source": [
        "testing()"
      ],
      "metadata": {
        "colab": {
          "base_uri": "https://localhost:8080/"
        },
        "id": "dRcAJZwjxPqH",
        "outputId": "7e30e52b-c376-4ade-d78b-e650aa525d0e"
      },
      "execution_count": 17,
      "outputs": [
        {
          "output_type": "stream",
          "name": "stderr",
          "text": []
        },
        {
          "output_type": "execute_result",
          "data": {
            "text/plain": [
              "0.02585781862338384"
            ]
          },
          "metadata": {},
          "execution_count": 17
        }
      ]
    },
    {
      "cell_type": "code",
      "source": [
        "for data in test_loader:\n",
        "    img, pts = data\n",
        "    print(img.shape, pts.shape)\n",
        "    break "
      ],
      "metadata": {
        "colab": {
          "base_uri": "https://localhost:8080/"
        },
        "id": "flHrin7iIdnE",
        "outputId": "922b8fa0-4b88-4f93-b36a-e996b8cc21c0"
      },
      "execution_count": 18,
      "outputs": [
        {
          "output_type": "stream",
          "name": "stdout",
          "text": [
            "torch.Size([16, 1, 512, 512]) torch.Size([16, 512, 512])\n"
          ]
        }
      ]
    },
    {
      "cell_type": "code",
      "source": [
        "# visualization\n",
        "import matplotlib.pyplot as plt\n",
        "# original image\n",
        "print(plt.imshow(img.detach().cpu().numpy()[0,0]))"
      ],
      "metadata": {
        "colab": {
          "base_uri": "https://localhost:8080/",
          "height": 286
        },
        "id": "T3bzX84GZ1uh",
        "outputId": "e7defe9a-09a2-434e-f601-e652c4bb9391"
      },
      "execution_count": 27,
      "outputs": [
        {
          "output_type": "stream",
          "name": "stdout",
          "text": [
            "AxesImage(54,36;334.8x217.44)\n"
          ]
        },
        {
          "output_type": "display_data",
          "data": {
            "image/png": "[encoded data removed]",
            "text/plain": [
              "<Figure size 432x288 with 1 Axes>"
            ]
          },
          "metadata": {
            "needs_background": "light"
          }
        }
      ]
    },
    {
      "cell_type": "code",
      "source": [
        "# using the model output\n",
        "sftmax = nn.Softmax(1)\n",
        "testoutput = superpoint(img.to(DEVICE))\n",
        "test_softmax = sftmax(testoutput)\n",
        "tst = test_softmax[:,:64,:,:].reshape(16,512,512)\n",
        "tst_cpu = tst.detach().cpu().numpy()\n",
        "plt.imshow(tst_cpu[0])"
      ],
      "metadata": {
        "colab": {
          "base_uri": "https://localhost:8080/",
          "height": 286
        },
        "id": "h5VVh0lcZ_4n",
        "outputId": "f7cdd5f9-6913-4f7e-f120-19e0aae61793"
      },
      "execution_count": 22,
      "outputs": [
        {
          "output_type": "execute_result",
          "data": {
            "text/plain": [
              "<matplotlib.image.AxesImage at 0x7ff1477108d0>"
            ]
          },
          "metadata": {},
          "execution_count": 22
        },
        {
          "output_type": "display_data",
          "data": {
            "image/png": "[encoded data removed]",
            "text/plain": [
              "<Figure size 432x288 with 1 Axes>"
            ]
          },
          "metadata": {
            "needs_background": "light"
          }
        }
      ]
    },
    {
      "cell_type": "code",
      "source": [],
      "metadata": {
        "id": "g3Uh4c6JaIn7"
      },
      "execution_count": null,
      "outputs": []
    }
  ]
}